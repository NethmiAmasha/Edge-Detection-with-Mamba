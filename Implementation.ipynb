{
  "nbformat": 4,
  "nbformat_minor": 0,
  "metadata": {
    "colab": {
      "provenance": [],
      "gpuType": "T4",
      "authorship_tag": "ABX9TyOZ346H25f75YfD/0LrnGiB",
      "include_colab_link": true
    },
    "kernelspec": {
      "name": "python3",
      "display_name": "Python 3"
    },
    "language_info": {
      "name": "python"
    },
    "accelerator": "GPU"
  },
  "cells": [
    {
      "cell_type": "markdown",
      "metadata": {
        "id": "view-in-github",
        "colab_type": "text"
      },
      "source": [
        "<a href=\"https://colab.research.google.com/github/NethmiAmasha/Edge-Detection-with-Mamba/blob/main/Implementation.ipynb\" target=\"_parent\"><img src=\"https://colab.research.google.com/assets/colab-badge.svg\" alt=\"Open In Colab\"/></a>"
      ]
    },
    {
      "cell_type": "markdown",
      "source": [
        "Check GPU and Install Basic Packages\n"
      ],
      "metadata": {
        "id": "BCZPsA_ubAfw"
      }
    },
    {
      "cell_type": "code",
      "execution_count": 1,
      "metadata": {
        "id": "YJlWwz-6PM5-",
        "outputId": "90806c08-62bc-4d6f-d307-54e079633a83",
        "colab": {
          "base_uri": "https://localhost:8080/"
        }
      },
      "outputs": [
        {
          "output_type": "stream",
          "name": "stdout",
          "text": [
            "======================================================================\n",
            "STEP 1: Checking your environment\n",
            "======================================================================\n",
            "Python version: 3.12.12 (main, Oct 10 2025, 08:52:57) [GCC 11.4.0]\n",
            "\n",
            "PyTorch version: 2.8.0+cu126\n",
            "CUDA available: False\n",
            "⚠️  WARNING: No GPU found. Training will be VERY slow.\n",
            "   In Colab: Runtime → Change runtime type → GPU\n",
            "\n",
            "✓ Basic check complete!\n"
          ]
        }
      ],
      "source": [
        "print(\"=\" * 70)\n",
        "print(\"STEP 1: Checking your environment\")\n",
        "print(\"=\" * 70)\n",
        "\n",
        "import sys\n",
        "print(f\"Python version: {sys.version}\")\n",
        "\n",
        "# Check if GPU is available\n",
        "import torch\n",
        "print(f\"\\nPyTorch version: {torch.__version__}\")\n",
        "print(f\"CUDA available: {torch.cuda.is_available()}\")\n",
        "if torch.cuda.is_available():\n",
        "    print(f\"CUDA version: {torch.version.cuda}\")\n",
        "    print(f\"GPU: {torch.cuda.get_device_name(0)}\")\n",
        "else:\n",
        "    print(\"⚠️  WARNING: No GPU found. Training will be VERY slow.\")\n",
        "    print(\"   In Colab: Runtime → Change runtime type → GPU\")\n",
        "\n",
        "print(\"\\n✓ Basic check complete!\")"
      ]
    },
    {
      "cell_type": "markdown",
      "source": [
        "Install Required Packages"
      ],
      "metadata": {
        "id": "StQ7pFavbP-s"
      }
    },
    {
      "cell_type": "code",
      "source": [
        "print(\"\\n\" + \"=\" * 70)\n",
        "print(\"STEP 2: Installing required packages (this may take 2-3 minutes)\")\n",
        "print(\"=\" * 70)\n",
        "\n",
        "# Install packages quietly\n",
        "import subprocess\n",
        "import sys\n",
        "\n",
        "def install_package(package):\n",
        "    \"\"\"Helper function to install packages quietly\"\"\"\n",
        "    subprocess.check_call([sys.executable, \"-m\", \"pip\", \"install\", \"-q\", package])\n",
        "\n",
        "packages = [\n",
        "    \"opencv-python\",\n",
        "    \"scikit-image\",\n",
        "    \"matplotlib\",\n",
        "    \"timm\",  # PyTorch Image Models\n",
        "    \"einops\",  # For tensor operations\n",
        "    \"scipy\",\n",
        "]\n",
        "\n",
        "print(\"\\nInstalling packages...\")\n",
        "for pkg in packages:\n",
        "    try:\n",
        "        install_package(pkg)\n",
        "        print(f\"  ✓ {pkg}\")\n",
        "    except Exception as e:\n",
        "        print(f\"  ✗ {pkg} - Error: {e}\")\n",
        "\n",
        "print(\"\\n✓ Package installation complete!\")"
      ],
      "metadata": {
        "id": "YdFuaMZCbUx6",
        "outputId": "e7cfe4f4-ed3c-4509-97cd-c2ce5a389c4e",
        "colab": {
          "base_uri": "https://localhost:8080/"
        }
      },
      "execution_count": 2,
      "outputs": [
        {
          "output_type": "stream",
          "name": "stdout",
          "text": [
            "\n",
            "======================================================================\n",
            "STEP 2: Installing required packages (this may take 2-3 minutes)\n",
            "======================================================================\n",
            "\n",
            "Installing packages...\n",
            "  ✓ opencv-python\n",
            "  ✓ scikit-image\n",
            "  ✓ matplotlib\n",
            "  ✓ timm\n",
            "  ✓ einops\n",
            "  ✓ scipy\n",
            "\n",
            "✓ Package installation complete!\n"
          ]
        }
      ]
    },
    {
      "cell_type": "markdown",
      "source": [
        "Install Mamba (Special Installation)"
      ],
      "metadata": {
        "id": "YQ6UHvZEbfLx"
      }
    },
    {
      "cell_type": "code",
      "source": [
        "print(\"\\n\" + \"=\" * 70)\n",
        "print(\"STEP 3: Installing Mamba and dependencies\")\n",
        "print(\"=\" * 70)\n",
        "print(\"This is the most important part - Mamba requires special installation\")\n",
        "print(\"This might take 3-5 minutes...\\n\")\n",
        "\n",
        "# Install causal-conv1d first (required for Mamba)\n",
        "print(\"Installing causal-conv1d...\")\n",
        "try:\n",
        "    subprocess.check_call([\n",
        "        sys.executable, \"-m\", \"pip\", \"install\",\n",
        "        \"causal-conv1d>=1.1.0\", \"-q\"\n",
        "    ])\n",
        "    print(\"  ✓ causal-conv1d installed\")\n",
        "except Exception as e:\n",
        "    print(f\"  ✗ Error: {e}\")\n",
        "\n",
        "# Install mamba-ssm\n",
        "print(\"\\nInstalling mamba-ssm...\")\n",
        "try:\n",
        "    subprocess.check_call([\n",
        "        sys.executable, \"-m\", \"pip\", \"install\",\n",
        "        \"mamba-ssm\", \"-q\"\n",
        "    ])\n",
        "    print(\"  ✓ mamba-ssm installed\")\n",
        "except Exception as e:\n",
        "    print(f\"  ✗ Error: {e}\")\n",
        "    print(\"  Note: Mamba installation can be tricky. If it fails, we'll use alternatives.\")\n",
        "\n",
        "print(\"\\n✓ Mamba installation complete!\")"
      ],
      "metadata": {
        "id": "bkGl4QN3bjTV",
        "outputId": "ead70eba-2927-4590-fd6e-d607b49c44a5",
        "colab": {
          "base_uri": "https://localhost:8080/",
          "height": 495
        }
      },
      "execution_count": 3,
      "outputs": [
        {
          "output_type": "stream",
          "name": "stdout",
          "text": [
            "\n",
            "======================================================================\n",
            "STEP 3: Installing Mamba and dependencies\n",
            "======================================================================\n",
            "This is the most important part - Mamba requires special installation\n",
            "This might take 3-5 minutes...\n",
            "\n",
            "Installing causal-conv1d...\n"
          ]
        },
        {
          "output_type": "error",
          "ename": "KeyboardInterrupt",
          "evalue": "",
          "traceback": [
            "\u001b[0;31m---------------------------------------------------------------------------\u001b[0m",
            "\u001b[0;31mKeyboardInterrupt\u001b[0m                         Traceback (most recent call last)",
            "\u001b[0;32m/tmp/ipython-input-1377354472.py\u001b[0m in \u001b[0;36m<cell line: 0>\u001b[0;34m()\u001b[0m\n\u001b[1;32m      8\u001b[0m \u001b[0mprint\u001b[0m\u001b[0;34m(\u001b[0m\u001b[0;34m\"Installing causal-conv1d...\"\u001b[0m\u001b[0;34m)\u001b[0m\u001b[0;34m\u001b[0m\u001b[0;34m\u001b[0m\u001b[0m\n\u001b[1;32m      9\u001b[0m \u001b[0;32mtry\u001b[0m\u001b[0;34m:\u001b[0m\u001b[0;34m\u001b[0m\u001b[0;34m\u001b[0m\u001b[0m\n\u001b[0;32m---> 10\u001b[0;31m     subprocess.check_call([\n\u001b[0m\u001b[1;32m     11\u001b[0m         \u001b[0msys\u001b[0m\u001b[0;34m.\u001b[0m\u001b[0mexecutable\u001b[0m\u001b[0;34m,\u001b[0m \u001b[0;34m\"-m\"\u001b[0m\u001b[0;34m,\u001b[0m \u001b[0;34m\"pip\"\u001b[0m\u001b[0;34m,\u001b[0m \u001b[0;34m\"install\"\u001b[0m\u001b[0;34m,\u001b[0m\u001b[0;34m\u001b[0m\u001b[0;34m\u001b[0m\u001b[0m\n\u001b[1;32m     12\u001b[0m         \u001b[0;34m\"causal-conv1d>=1.1.0\"\u001b[0m\u001b[0;34m,\u001b[0m \u001b[0;34m\"-q\"\u001b[0m\u001b[0;34m\u001b[0m\u001b[0;34m\u001b[0m\u001b[0m\n",
            "\u001b[0;32m/usr/lib/python3.12/subprocess.py\u001b[0m in \u001b[0;36mcheck_call\u001b[0;34m(*popenargs, **kwargs)\u001b[0m\n\u001b[1;32m    406\u001b[0m     \u001b[0mcheck_call\u001b[0m\u001b[0;34m(\u001b[0m\u001b[0;34m[\u001b[0m\u001b[0;34m\"ls\"\u001b[0m\u001b[0;34m,\u001b[0m \u001b[0;34m\"-l\"\u001b[0m\u001b[0;34m]\u001b[0m\u001b[0;34m)\u001b[0m\u001b[0;34m\u001b[0m\u001b[0;34m\u001b[0m\u001b[0m\n\u001b[1;32m    407\u001b[0m     \"\"\"\n\u001b[0;32m--> 408\u001b[0;31m     \u001b[0mretcode\u001b[0m \u001b[0;34m=\u001b[0m \u001b[0mcall\u001b[0m\u001b[0;34m(\u001b[0m\u001b[0;34m*\u001b[0m\u001b[0mpopenargs\u001b[0m\u001b[0;34m,\u001b[0m \u001b[0;34m**\u001b[0m\u001b[0mkwargs\u001b[0m\u001b[0;34m)\u001b[0m\u001b[0;34m\u001b[0m\u001b[0;34m\u001b[0m\u001b[0m\n\u001b[0m\u001b[1;32m    409\u001b[0m     \u001b[0;32mif\u001b[0m \u001b[0mretcode\u001b[0m\u001b[0;34m:\u001b[0m\u001b[0;34m\u001b[0m\u001b[0;34m\u001b[0m\u001b[0m\n\u001b[1;32m    410\u001b[0m         \u001b[0mcmd\u001b[0m \u001b[0;34m=\u001b[0m \u001b[0mkwargs\u001b[0m\u001b[0;34m.\u001b[0m\u001b[0mget\u001b[0m\u001b[0;34m(\u001b[0m\u001b[0;34m\"args\"\u001b[0m\u001b[0;34m)\u001b[0m\u001b[0;34m\u001b[0m\u001b[0;34m\u001b[0m\u001b[0m\n",
            "\u001b[0;32m/usr/lib/python3.12/subprocess.py\u001b[0m in \u001b[0;36mcall\u001b[0;34m(timeout, *popenargs, **kwargs)\u001b[0m\n\u001b[1;32m    389\u001b[0m     \u001b[0;32mwith\u001b[0m \u001b[0mPopen\u001b[0m\u001b[0;34m(\u001b[0m\u001b[0;34m*\u001b[0m\u001b[0mpopenargs\u001b[0m\u001b[0;34m,\u001b[0m \u001b[0;34m**\u001b[0m\u001b[0mkwargs\u001b[0m\u001b[0;34m)\u001b[0m \u001b[0;32mas\u001b[0m \u001b[0mp\u001b[0m\u001b[0;34m:\u001b[0m\u001b[0;34m\u001b[0m\u001b[0;34m\u001b[0m\u001b[0m\n\u001b[1;32m    390\u001b[0m         \u001b[0;32mtry\u001b[0m\u001b[0;34m:\u001b[0m\u001b[0;34m\u001b[0m\u001b[0;34m\u001b[0m\u001b[0m\n\u001b[0;32m--> 391\u001b[0;31m             \u001b[0;32mreturn\u001b[0m \u001b[0mp\u001b[0m\u001b[0;34m.\u001b[0m\u001b[0mwait\u001b[0m\u001b[0;34m(\u001b[0m\u001b[0mtimeout\u001b[0m\u001b[0;34m=\u001b[0m\u001b[0mtimeout\u001b[0m\u001b[0;34m)\u001b[0m\u001b[0;34m\u001b[0m\u001b[0;34m\u001b[0m\u001b[0m\n\u001b[0m\u001b[1;32m    392\u001b[0m         \u001b[0;32mexcept\u001b[0m\u001b[0;34m:\u001b[0m  \u001b[0;31m# Including KeyboardInterrupt, wait handled that.\u001b[0m\u001b[0;34m\u001b[0m\u001b[0;34m\u001b[0m\u001b[0m\n\u001b[1;32m    393\u001b[0m             \u001b[0mp\u001b[0m\u001b[0;34m.\u001b[0m\u001b[0mkill\u001b[0m\u001b[0;34m(\u001b[0m\u001b[0;34m)\u001b[0m\u001b[0;34m\u001b[0m\u001b[0;34m\u001b[0m\u001b[0m\n",
            "\u001b[0;32m/usr/lib/python3.12/subprocess.py\u001b[0m in \u001b[0;36mwait\u001b[0;34m(self, timeout)\u001b[0m\n\u001b[1;32m   1262\u001b[0m             \u001b[0mendtime\u001b[0m \u001b[0;34m=\u001b[0m \u001b[0m_time\u001b[0m\u001b[0;34m(\u001b[0m\u001b[0;34m)\u001b[0m \u001b[0;34m+\u001b[0m \u001b[0mtimeout\u001b[0m\u001b[0;34m\u001b[0m\u001b[0;34m\u001b[0m\u001b[0m\n\u001b[1;32m   1263\u001b[0m         \u001b[0;32mtry\u001b[0m\u001b[0;34m:\u001b[0m\u001b[0;34m\u001b[0m\u001b[0;34m\u001b[0m\u001b[0m\n\u001b[0;32m-> 1264\u001b[0;31m             \u001b[0;32mreturn\u001b[0m \u001b[0mself\u001b[0m\u001b[0;34m.\u001b[0m\u001b[0m_wait\u001b[0m\u001b[0;34m(\u001b[0m\u001b[0mtimeout\u001b[0m\u001b[0;34m=\u001b[0m\u001b[0mtimeout\u001b[0m\u001b[0;34m)\u001b[0m\u001b[0;34m\u001b[0m\u001b[0;34m\u001b[0m\u001b[0m\n\u001b[0m\u001b[1;32m   1265\u001b[0m         \u001b[0;32mexcept\u001b[0m \u001b[0mKeyboardInterrupt\u001b[0m\u001b[0;34m:\u001b[0m\u001b[0;34m\u001b[0m\u001b[0;34m\u001b[0m\u001b[0m\n\u001b[1;32m   1266\u001b[0m             \u001b[0;31m# https://bugs.python.org/issue25942\u001b[0m\u001b[0;34m\u001b[0m\u001b[0;34m\u001b[0m\u001b[0m\n",
            "\u001b[0;32m/usr/lib/python3.12/subprocess.py\u001b[0m in \u001b[0;36m_wait\u001b[0;34m(self, timeout)\u001b[0m\n\u001b[1;32m   2051\u001b[0m                         \u001b[0;32mif\u001b[0m \u001b[0mself\u001b[0m\u001b[0;34m.\u001b[0m\u001b[0mreturncode\u001b[0m \u001b[0;32mis\u001b[0m \u001b[0;32mnot\u001b[0m \u001b[0;32mNone\u001b[0m\u001b[0;34m:\u001b[0m\u001b[0;34m\u001b[0m\u001b[0;34m\u001b[0m\u001b[0m\n\u001b[1;32m   2052\u001b[0m                             \u001b[0;32mbreak\u001b[0m  \u001b[0;31m# Another thread waited.\u001b[0m\u001b[0;34m\u001b[0m\u001b[0;34m\u001b[0m\u001b[0m\n\u001b[0;32m-> 2053\u001b[0;31m                         \u001b[0;34m(\u001b[0m\u001b[0mpid\u001b[0m\u001b[0;34m,\u001b[0m \u001b[0msts\u001b[0m\u001b[0;34m)\u001b[0m \u001b[0;34m=\u001b[0m \u001b[0mself\u001b[0m\u001b[0;34m.\u001b[0m\u001b[0m_try_wait\u001b[0m\u001b[0;34m(\u001b[0m\u001b[0;36m0\u001b[0m\u001b[0;34m)\u001b[0m\u001b[0;34m\u001b[0m\u001b[0;34m\u001b[0m\u001b[0m\n\u001b[0m\u001b[1;32m   2054\u001b[0m                         \u001b[0;31m# Check the pid and loop as waitpid has been known to\u001b[0m\u001b[0;34m\u001b[0m\u001b[0;34m\u001b[0m\u001b[0m\n\u001b[1;32m   2055\u001b[0m                         \u001b[0;31m# return 0 even without WNOHANG in odd situations.\u001b[0m\u001b[0;34m\u001b[0m\u001b[0;34m\u001b[0m\u001b[0m\n",
            "\u001b[0;32m/usr/lib/python3.12/subprocess.py\u001b[0m in \u001b[0;36m_try_wait\u001b[0;34m(self, wait_flags)\u001b[0m\n\u001b[1;32m   2009\u001b[0m             \u001b[0;34m\"\"\"All callers to this function MUST hold self._waitpid_lock.\"\"\"\u001b[0m\u001b[0;34m\u001b[0m\u001b[0;34m\u001b[0m\u001b[0m\n\u001b[1;32m   2010\u001b[0m             \u001b[0;32mtry\u001b[0m\u001b[0;34m:\u001b[0m\u001b[0;34m\u001b[0m\u001b[0;34m\u001b[0m\u001b[0m\n\u001b[0;32m-> 2011\u001b[0;31m                 \u001b[0;34m(\u001b[0m\u001b[0mpid\u001b[0m\u001b[0;34m,\u001b[0m \u001b[0msts\u001b[0m\u001b[0;34m)\u001b[0m \u001b[0;34m=\u001b[0m \u001b[0mos\u001b[0m\u001b[0;34m.\u001b[0m\u001b[0mwaitpid\u001b[0m\u001b[0;34m(\u001b[0m\u001b[0mself\u001b[0m\u001b[0;34m.\u001b[0m\u001b[0mpid\u001b[0m\u001b[0;34m,\u001b[0m \u001b[0mwait_flags\u001b[0m\u001b[0;34m)\u001b[0m\u001b[0;34m\u001b[0m\u001b[0;34m\u001b[0m\u001b[0m\n\u001b[0m\u001b[1;32m   2012\u001b[0m             \u001b[0;32mexcept\u001b[0m \u001b[0mChildProcessError\u001b[0m\u001b[0;34m:\u001b[0m\u001b[0;34m\u001b[0m\u001b[0;34m\u001b[0m\u001b[0m\n\u001b[1;32m   2013\u001b[0m                 \u001b[0;31m# This happens if SIGCLD is set to be ignored or waiting\u001b[0m\u001b[0;34m\u001b[0m\u001b[0;34m\u001b[0m\u001b[0m\n",
            "\u001b[0;31mKeyboardInterrupt\u001b[0m: "
          ]
        }
      ]
    },
    {
      "cell_type": "markdown",
      "source": [
        "Test Imports"
      ],
      "metadata": {
        "id": "jSP9y-jRb1wt"
      }
    },
    {
      "cell_type": "code",
      "source": [
        "print(\"\\n\" + \"=\" * 70)\n",
        "print(\"STEP 4: Testing if everything works\")\n",
        "print(\"=\" * 70)\n",
        "\n",
        "test_results = {}\n",
        "\n",
        "# Test basic imports\n",
        "print(\"\\nTesting imports...\")\n",
        "\n",
        "try:\n",
        "    import torch\n",
        "    import torchvision\n",
        "    test_results['torch'] = '✓'\n",
        "    print(f\"  ✓ PyTorch {torch.__version__}\")\n",
        "except:\n",
        "    test_results['torch'] = '✗'\n",
        "    print(f\"  ✗ PyTorch failed\")\n",
        "\n",
        "try:\n",
        "    import cv2\n",
        "    test_results['opencv'] = '✓'\n",
        "    print(f\"  ✓ OpenCV {cv2.__version__}\")\n",
        "except:\n",
        "    test_results['opencv'] = '✗'\n",
        "    print(f\"  ✗ OpenCV failed\")\n",
        "\n",
        "try:\n",
        "    import matplotlib.pyplot as plt\n",
        "    test_results['matplotlib'] = '✓'\n",
        "    print(f\"  ✓ Matplotlib\")\n",
        "except:\n",
        "    test_results['matplotlib'] = '✗'\n",
        "    print(f\"  ✗ Matplotlib failed\")\n",
        "\n",
        "try:\n",
        "    from skimage import io\n",
        "    test_results['skimage'] = '✓'\n",
        "    print(f\"  ✓ Scikit-image\")\n",
        "except:\n",
        "    test_results['skimage'] = '✗'\n",
        "    print(f\"  ✗ Scikit-image failed\")\n",
        "\n",
        "try:\n",
        "    import timm\n",
        "    test_results['timm'] = '✓'\n",
        "    print(f\"  ✓ TIMM {timm.__version__}\")\n",
        "except:\n",
        "    test_results['timm'] = '✗'\n",
        "    print(f\"  ✗ TIMM failed\")\n",
        "\n",
        "try:\n",
        "    from mamba_ssm import Mamba\n",
        "    test_results['mamba'] = '✓'\n",
        "    print(f\"  ✓ Mamba SSM\")\n",
        "except:\n",
        "    test_results['mamba'] = '✗'\n",
        "    print(f\"  ✗ Mamba SSM failed (this might need troubleshooting)\")\n",
        "\n",
        "# Summary\n",
        "print(\"\\n\" + \"=\" * 70)\n",
        "print(\"INSTALLATION SUMMARY\")\n",
        "print(\"=\" * 70)\n",
        "failures = [k for k, v in test_results.items() if v == '✗']\n",
        "if not failures:\n",
        "    print(\"🎉 ALL PACKAGES INSTALLED SUCCESSFULLY!\")\n",
        "    print(\"\\nYou're ready to proceed to data loading!\")\n",
        "else:\n",
        "    print(f\"⚠️  Some packages failed: {', '.join(failures)}\")\n",
        "    print(\"\\nDon't worry! We can work around this.\")\n",
        "\n",
        "print(\"\\n\" + \"=\" * 70)"
      ],
      "metadata": {
        "id": "V_6JwzEzb61a"
      },
      "execution_count": null,
      "outputs": []
    },
    {
      "cell_type": "markdown",
      "source": [
        "Create Directory Structure"
      ],
      "metadata": {
        "id": "Z3hBP6mecAae"
      }
    },
    {
      "cell_type": "code",
      "source": [
        "print(\"\\n\" + \"=\" * 70)\n",
        "print(\"STEP 5: Creating project directories\")\n",
        "print(\"=\" * 70)\n",
        "\n",
        "import os\n",
        "\n",
        "# Create directories\n",
        "directories = [\n",
        "    'data',\n",
        "    'data/BSDS500',\n",
        "    'data/BSDS500/train',\n",
        "    'data/BSDS500/train/images',\n",
        "    'data/BSDS500/train/edges',\n",
        "    'data/BSDS500/test',\n",
        "    'data/BSDS500/test/images',\n",
        "    'data/BSDS500/test/edges',\n",
        "    'models',\n",
        "    'results',\n",
        "    'checkpoints'\n",
        "]\n",
        "\n",
        "print(\"\\nCreating directories...\")\n",
        "for directory in directories:\n",
        "    os.makedirs(directory, exist_ok=True)\n",
        "    print(f\"  ✓ {directory}\")\n",
        "\n",
        "print(\"\\n✓ Directory structure created!\")\n",
        "print(\"\\nYour project structure:\")\n",
        "print(\"\"\"\n",
        "📁 Project Root\n",
        "├── 📁 data/\n",
        "│   └── 📁 BSDS500/\n",
        "│       ├── 📁 train/\n",
        "│       │   ├── 📁 images/\n",
        "│       │   └── 📁 edges/\n",
        "│       └── 📁 test/\n",
        "│           ├── 📁 images/\n",
        "│           └── 📁 edges/\n",
        "├── 📁 models/\n",
        "├── 📁 results/\n",
        "└── 📁 checkpoints/\n",
        "\"\"\")\n",
        "\n",
        "print(\"=\" * 70)\n",
        "print(\"🎉 SETUP COMPLETE!\")\n",
        "print(\"=\" * 70)\n",
        "print(\"\\nNext steps:\")\n",
        "print(\"1. Download BSDS500 dataset\")\n",
        "print(\"2. Explore the data\")\n",
        "print(\"3. Understand data loading\")\n",
        "print(\"\\nReady to continue!\")"
      ],
      "metadata": {
        "id": "li9-8_RbcAG4"
      },
      "execution_count": null,
      "outputs": []
    }
  ]
}